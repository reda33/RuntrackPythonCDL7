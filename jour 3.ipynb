{
 "cells": [
  {
   "cell_type": "markdown",
   "id": "caroline-legislature",
   "metadata": {},
   "source": [
    "# Job 0"
   ]
  },
  {
   "cell_type": "code",
   "execution_count": null,
   "id": "premier-waterproof",
   "metadata": {},
   "outputs": [],
   "source": [
    "content = input (\"Merci de renseigner une chaine de caractères : \")\n",
    "print(content)"
   ]
  },
  {
   "cell_type": "markdown",
   "id": "stock-rider",
   "metadata": {},
   "source": [
    "# Job 0.1"
   ]
  },
  {
   "cell_type": "code",
   "execution_count": null,
   "id": "cubic-bubble",
   "metadata": {},
   "outputs": [],
   "source": [
    "# Demander à l'utilisateur de saisir une chaîne de caractères\n",
    "string = input(\"Entrez une chaîne de caractères: \")\n",
    "\n",
    "# Écrire la chaîne de caractères dans un fichier\n",
    "with open(\"output.txt\", \"w\") as file:\n",
    "    file.write(string)"
   ]
  },
  {
   "cell_type": "markdown",
   "id": "casual-momentum",
   "metadata": {},
   "source": [
    "# Job 01"
   ]
  },
  {
   "cell_type": "code",
   "execution_count": null,
   "id": "insured-netherlands",
   "metadata": {},
   "outputs": [],
   "source": [
    "import re\n",
    "\n",
    "f=open(\"domains.xml\", \"r\")\n",
    "content_domains = f.read()\n",
    "f.close\n",
    "\n",
    "\n",
    "resultat = re.findall(r\"\\.[a-z]{2,4}[\\|<|\\n]\", content_domains)\n",
    "print(resultat)"
   ]
  },
  {
   "cell_type": "markdown",
   "id": "iraqi-injury",
   "metadata": {},
   "source": [
    "# job 01"
   ]
  },
  {
   "cell_type": "code",
   "execution_count": null,
   "id": "prospective-lawrence",
   "metadata": {},
   "outputs": [],
   "source": [
    "import re\n",
    "\n",
    "f=open(\"domains.xml\", \"r\")\n",
    "content_domains = f.read()\n",
    "f.close\n",
    "\n",
    "\n",
    "resultat = re.findall(r\"\\.[a-z]{2,4}[\\|<|\\n]\", content_domains)\n",
    "print(resultat)"
   ]
  },
  {
   "cell_type": "markdown",
   "id": "returning-monkey",
   "metadata": {},
   "source": [
    "# job 02"
   ]
  },
  {
   "cell_type": "code",
   "execution_count": null,
   "id": "fiscal-cheat",
   "metadata": {},
   "outputs": [],
   "source": [
    "import re\n",
    "with open(\"data.txt\", \"r\") as fichier:\n",
    "    nb_mots = 0\n",
    "    for ligne in fichier:\n",
    "        mots = re.split(\"\\W+\", ligne)\n",
    "        for mot in mots:\n",
    "            if mot:\n",
    "                nb_mots += 1\n",
    "\n",
    "# Afficher le nombre de mots trouvés\n",
    "print(f\"Il y a {nb_mots} mots dans le fichier 'data.txt' (sans les caractères spéciaux).\")"
   ]
  },
  {
   "cell_type": "markdown",
   "id": "harmful-biodiversity",
   "metadata": {},
   "source": []
  }
 ],
 "metadata": {
  "kernelspec": {
   "display_name": "Python 3",
   "language": "python",
   "name": "python3"
  },
  "language_info": {
   "codemirror_mode": {
    "name": "ipython",
    "version": 3
   },
   "file_extension": ".py",
   "mimetype": "text/x-python",
   "name": "python",
   "nbconvert_exporter": "python",
   "pygments_lexer": "ipython3",
   "version": "3.6.8"
  }
 },
 "nbformat": 4,
 "nbformat_minor": 5
}
