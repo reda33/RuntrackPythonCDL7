{
 "cells": [
  {
   "cell_type": "markdown",
   "id": "cooked-modeling",
   "metadata": {},
   "source": [
    "# Job 0"
   ]
  },
  {
   "cell_type": "markdown",
   "id": "standing-emperor",
   "metadata": {},
   "source": [
    "Créez une classe “Personne” avec les attributs “nom”, “prenom”. Ajoutez une méthode “SePresenter()” qui aﬃchera dans le terminal le nom et le prénom de la personne. Ajoutez aussi un constructeur prenant en paramètres de quoi donner des valeurs initiales aux attributs “nom” et “prenom”. Instanciez plusieurs personnes avec les valeurs de construction de votre choix et faites appel à la méthode “SePresenter()” aﬁn de vériﬁer que tout fonctionne correctement. Ajouter un “accesseur” et un “mutateur” pour chacun des attributs."
   ]
  },
  {
   "cell_type": "code",
   "execution_count": 5,
   "id": "verbal-cutting",
   "metadata": {},
   "outputs": [],
   "source": [
    "class Personne:\n",
    "    def __init__(self, nom, prenom):\n",
    "        self.nom = nom\n",
    "        self.prenom = prenom\n",
    "\n",
    "    def SePresenter(self):\n",
    "        print(\"Je m'appelle\", self.prenom, self.nom)\n",
    "\n",
    "    def get_nom(self):\n",
    "        return self.nom\n",
    "\n",
    "    def set_nom(self, nom):\n",
    "        self.nom = nom\n",
    "\n",
    "    def get_prenom(self):\n",
    "        return self.prenom\n",
    "\n",
    "    def set_prenom(self, prenom):\n",
    "        self.prenom = prenom"
   ]
  },
  {
   "cell_type": "code",
   "execution_count": 6,
   "id": "everyday-pension",
   "metadata": {},
   "outputs": [
    {
     "name": "stdout",
     "output_type": "stream",
     "text": [
      "Je m'appelle rbendez farid\n",
      "Je m'appelle laamri karim\n"
     ]
    }
   ],
   "source": [
    "personne1 = Personne(\"farid\", \"rbendez\")\n",
    "personne1.SePresenter() \n",
    "\n",
    "personne2 = Personne(\"karim\", \"laamri\")\n",
    "personne2.SePresenter() "
   ]
  },
  {
   "cell_type": "code",
   "execution_count": 4,
   "id": "internal-chemistry",
   "metadata": {},
   "outputs": [
    {
     "name": "stdout",
     "output_type": "stream",
     "text": [
      "benzine farid\n"
     ]
    }
   ],
   "source": [
    "personne1.set_nom(\"benzine farid\")\n",
    "print(personne1.get_nom())  "
   ]
  },
  {
   "cell_type": "markdown",
   "id": "hungarian-result",
   "metadata": {},
   "source": [
    "# Job 1"
   ]
  },
  {
   "cell_type": "markdown",
   "id": "manufactured-athletics",
   "metadata": {},
   "source": [
    "Créer une classe “Livre” avec comme attribut un “titre” qu’elle reçoit en paramètre à la construction et une référence vers une classe “Auteur”. Ajouter une méthode “print” permettant d’aﬃcher dans le terminal le titre du livre. Créer une classe “Auteur” héritant de la classe “Personne” recevant un nom et un prénom en paramètre de construction. La classe auteur devra posséder une collection de livres nommée \"œuvre\" en attribut ainsi qu’une méthode “listerOeuvre” aﬃchant dans le terminal la liste des livres écrits par l’auteur. Ajouter à la classe Auteur une méthode “ecrireUnLivre” prenant en paramètre un titre de livre à écrire et générer une instance de la classe livre avec ce titre. Ajouter ce nouveau livre à l’oeuvre de l’auteur"
   ]
  },
  {
   "cell_type": "code",
   "execution_count": 11,
   "id": "indirect-voltage",
   "metadata": {},
   "outputs": [],
   "source": [
    "class Livre:\n",
    "    def __init__(self, titre, auteur):\n",
    "        self.titre = titre\n",
    "        self.auteur = auteur\n",
    "\n",
    "    def print_(self):\n",
    "        print(self.titre)\n",
    "\n",
    "class Personne:\n",
    "    def __init__(self, nom, prenom):\n",
    "        self.nom = nom\n",
    "        self.prenom = prenom\n",
    "\n",
    "class Auteur(Personne):\n",
    "    def __init__(self, nom, prenom):\n",
    "        super().__init__(nom, prenom)\n",
    "        self.oeuvre = []\n",
    "        \n",
    "    def listerOeuvre(self):\n",
    "        print(f\"Liste des livres écrits par {self.prenom} {self.nom}:\")\n",
    "        for livre in self.oeuvre:\n",
    "            print(livre.titre)\n",
    "\n",
    "    def ecrireUnLivre(self, titre):\n",
    "        livre = Livre(titre, self)\n",
    "        self.oeuvre.append(livre)\n",
    "        return livre\n",
    "    \n",
    "            \n",
    "\n",
    "    "
   ]
  },
  {
   "cell_type": "code",
   "execution_count": 13,
   "id": "demanding-birth",
   "metadata": {},
   "outputs": [
    {
     "name": "stdout",
     "output_type": "stream",
     "text": [
      "Liste des livres écrits par KHADRA Yassmina:\n",
      "Les Misérables\n",
      "Notre Dame de Paris\n"
     ]
    }
   ],
   "source": [
    "auteur1 = Auteur(\"Yassmina\", \"KHADRA\")\n",
    "\n",
    "\n",
    "livre1 = auteur1.ecrireUnLivre(\"Les Misérables\")\n",
    "livre2 = auteur1.ecrireUnLivre(\"Notre Dame de Paris\")\n",
    "\n",
    "\n",
    "auteur1.listerOeuvre()"
   ]
  },
  {
   "cell_type": "markdown",
   "id": "naval-dryer",
   "metadata": {},
   "source": [
    "# Job 02.718"
   ]
  },
  {
   "cell_type": "markdown",
   "id": "hydraulic-breath",
   "metadata": {},
   "source": [
    "Créer une classe “Client” héritant de “Personne”, prenant en paramètre un nom et un prenom.\n",
    "\n",
    "Créez une classe “Bibliotheque” avec comme attributs un nom et un catalogue: une collection de livres ou chaque livre est associé à une quantité (représenté par un nombre entier). Ajoutez les méthodes suivantes :\n",
    "\n",
    "- acheterLivre: Prenant en paramètre un objet auteur, le nom d’un livre ainsi qu’un nombre entier représentant une quantité. Si le livre existe bien dans l'œuvre de l’auteur, ajouter ce livre au catalogue de la bibliothèque avec la quantité correspondante.\n",
    "\n",
    "- inventaire: Une méthode qui aﬃche dans le terminal les titres des livres présents dans le catalogue ainsi que leur quantité.\n",
    "\n",
    "- louer: Cette méthode reçoit en paramètres une instance d’objet “Client” ainsi que le nom d’un livre. Si le livre existe et est en stock, ajoutez ce livre à la collection de livre du client et tenez à jour la quantité de ce livre dans la bibliothèque.\n",
    "\n",
    "- rendreLivres: Une méthode qui prend un “Client” en paramètre et qui récupère tous les livres de ce dernier et les ajoute au catalogue de la bibliothèque.\n",
    "\n",
    "Ajouter à la classe “Client” un attribut collection étant une collection de livres et ajouter la méthode inventaire qui aﬃche dans le terminal les titres des livres en possession du client."
   ]
  },
  {
   "cell_type": "code",
   "execution_count": 14,
   "id": "controversial-perspective",
   "metadata": {},
   "outputs": [],
   "source": [
    "class Personne:\n",
    "    def __init__(self, nom, prenom):\n",
    "        self.nom = nom\n",
    "        self.prenom = prenom\n",
    "\n",
    "class Client(Personne):\n",
    "    def __init__(self, nom, prenom):\n",
    "        super().__init__(nom, prenom)\n",
    "        self.collection = {}\n",
    "\n",
    "    def inventaire(self):\n",
    "        if len(self.collection) == 0:\n",
    "            print(\"Vous n'avez pas encore emprunté de livre.\")\n",
    "        else:\n",
    "            print(\"Votre collection :\")\n",
    "            for livre in self.collection:\n",
    "                print(f\"- {livre} ({self.collection[livre]})\")\n",
    "\n",
    "class Bibliotheque:\n",
    "    def __init__(self, nom):\n",
    "        self.nom = nom\n",
    "        self.catalogue = {}\n",
    "\n",
    "    def acheterLivre(self, auteur, titre, quantite):\n",
    "        if titre in auteur.oeuvre:\n",
    "            if titre in self.catalogue:\n",
    "                self.catalogue[titre] += quantite\n",
    "            else:\n",
    "                self.catalogue[titre] = quantite\n",
    "            print(f\"Le livre \\\"{titre}\\\" a été ajouté au catalogue de la bibliothèque avec une quantité de {quantite}.\")\n",
    "        else:\n",
    "            print(f\"Le livre \\\"{titre}\\\" n'est pas dans l'œuvre de {auteur.nom} {auteur.prenom}.\")\n",
    "\n",
    "    def inventaire(self):\n",
    "        if len(self.catalogue) == 0:\n",
    "            print(\"Le catalogue de la bibliothèque est vide.\")\n",
    "        else:\n",
    "            print(\"Le catalogue de la bibliothèque :\")\n",
    "            for livre in self.catalogue:\n",
    "                print(f\"- {livre} ({self.catalogue[livre]})\")\n",
    "\n",
    "    def louer(self, client, titre):\n",
    "        if titre in self.catalogue and self.catalogue[titre] > 0:\n",
    "            if titre in client.collection:\n",
    "                client.collection[titre] += 1\n",
    "            else:\n",
    "                client.collection[titre] = 1\n",
    "            self.catalogue[titre] -= 1\n",
    "            print(f\"Le livre \\\"{titre}\\\" a été ajouté à la collection de {client.nom} {client.prenom}.\")\n",
    "        else:\n",
    "            print(f\"Le livre \\\"{titre}\\\" n'est pas disponible.\")\n",
    "\n",
    "    def rendreLivres(self, client):\n",
    "        if len(client.collection) == 0:\n",
    "            print(f\"{client.nom} {client.prenom} n'a pas de livre à rendre.\")\n",
    "        else:\n",
    "            for livre in client.collection:\n",
    "                if livre in self.catalogue:\n",
    "                    self.catalogue[livre] += client.collection[livre]\n",
    "                else:\n",
    "                    self.catalogue[livre] = client.collection[livre]\n",
    "            client.collection.clear()\n",
    "            print(f\"Tous les livres de {client.nom} {client.prenom} ont été rendus.\")\n",
    "\n"
   ]
  },
  {
   "cell_type": "markdown",
   "id": "copyrighted-coordinator",
   "metadata": {},
   "source": [
    "# job "
   ]
  },
  {
   "cell_type": "code",
   "execution_count": null,
   "id": "chronic-lincoln",
   "metadata": {},
   "outputs": [],
   "source": []
  }
 ],
 "metadata": {
  "kernelspec": {
   "display_name": "Python 3",
   "language": "python",
   "name": "python3"
  },
  "language_info": {
   "codemirror_mode": {
    "name": "ipython",
    "version": 3
   },
   "file_extension": ".py",
   "mimetype": "text/x-python",
   "name": "python",
   "nbconvert_exporter": "python",
   "pygments_lexer": "ipython3",
   "version": "3.6.8"
  }
 },
 "nbformat": 4,
 "nbformat_minor": 5
}
