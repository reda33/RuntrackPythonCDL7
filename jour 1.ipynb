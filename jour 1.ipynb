{
 "cells": [
  {
   "cell_type": "markdown",
   "id": "prime-buffalo",
   "metadata": {},
   "source": [
    "# Job 11"
   ]
  },
  {
   "cell_type": "markdown",
   "id": "under-roads",
   "metadata": {},
   "source": [
    "Créez un programme qui demande à l’utilisateur de renseigner son prénom via l’invite de commande grâce à la fonction input(). Le programme doit alors aﬃcher dans le terminal “Hello xx !” ou xx est le prénom entré par l’utilisateur."
   ]
  },
  {
   "cell_type": "code",
   "execution_count": 7,
   "id": "entertaining-survey",
   "metadata": {},
   "outputs": [
    {
     "name": "stdout",
     "output_type": "stream",
     "text": [
      "Tapez votre Prénom : xx\n",
      "Hello  xx\n"
     ]
    }
   ],
   "source": [
    "prénom = input(\"Tapez votre Prénom : \") \n",
    "print(\"Hello \", prénom)"
   ]
  },
  {
   "cell_type": "markdown",
   "id": "preceding-theory",
   "metadata": {},
   "source": [
    "# Job 13"
   ]
  },
  {
   "cell_type": "markdown",
   "id": "ordered-surfing",
   "metadata": {},
   "source": [
    "Créez un programme qui demande 5 fois à l’utilisateur de renseigner un nombre entier. Stockez ces nombres entiers dans une liste puis triez-les par ordre croissant avant de les aﬃcher, dans l’ordre, dans le terminal."
   ]
  },
  {
   "cell_type": "code",
   "execution_count": 13,
   "id": "fourth-history",
   "metadata": {},
   "outputs": [
    {
     "name": "stdout",
     "output_type": "stream",
     "text": [
      "donner un nombre entier : 8\n",
      "donner un nombre entier : 9\n",
      "donner un nombre entier : 0\n",
      "donner un nombre entier : 14\n",
      "donner un nombre entier : 2\n",
      "0\n",
      "2\n",
      "8\n",
      "9\n",
      "14\n"
     ]
    }
   ],
   "source": [
    "p = int(input (\"donner un nombre entier : \"))\n",
    "d = int(input (\"donner un nombre entier : \"))\n",
    "t = int(input (\"donner un nombre entier : \"))\n",
    "q = int(input (\"donner un nombre entier : \"))\n",
    "c = int(input (\"donner un nombre entier : \"))\n",
    "liste = [p , d , t , q , c]\n",
    "liste.sort()\n",
    "for i in range(len(liste)) : \n",
    "    print(liste[i])\n",
    "    \n",
    "\n",
    "    \n",
    "\n",
    "    \n",
    "    "
   ]
  },
  {
   "cell_type": "markdown",
   "id": "medieval-coaching",
   "metadata": {},
   "source": [
    "# Job 17"
   ]
  },
  {
   "cell_type": "markdown",
   "id": "danish-allowance",
   "metadata": {},
   "source": [
    "Écrire un programme qui itère les nombres entiers de 1 à 100. Pour les multiples de trois, aﬃcher \"Fizz\" au lieu du nombre et pour les multiples de cinq aﬃcher \"Buzz\". Pour les nombres qui sont des multiples de trois et cinq, aﬃcher \"FizzBuzz\"."
   ]
  },
  {
   "cell_type": "code",
   "execution_count": 22,
   "id": "simple-problem",
   "metadata": {},
   "outputs": [
    {
     "name": "stdout",
     "output_type": "stream",
     "text": [
      "1\n",
      "2\n",
      "Fizz\n",
      "4\n",
      "Buzz\n",
      "Fizz\n",
      "7\n",
      "8\n",
      "Fizz\n",
      "Buzz\n",
      "11\n",
      "Fizz\n",
      "13\n",
      "14\n",
      "FizzBuzz\n",
      "16\n",
      "17\n",
      "Fizz\n",
      "19\n",
      "Buzz\n",
      "Fizz\n",
      "22\n",
      "23\n",
      "Fizz\n",
      "Buzz\n",
      "26\n",
      "Fizz\n",
      "28\n",
      "29\n",
      "FizzBuzz\n",
      "31\n",
      "32\n",
      "Fizz\n",
      "34\n",
      "Buzz\n",
      "Fizz\n",
      "37\n",
      "38\n",
      "Fizz\n",
      "Buzz\n",
      "41\n",
      "Fizz\n",
      "43\n",
      "44\n",
      "FizzBuzz\n",
      "46\n",
      "47\n",
      "Fizz\n",
      "49\n",
      "Buzz\n",
      "Fizz\n",
      "52\n",
      "53\n",
      "Fizz\n",
      "Buzz\n",
      "56\n",
      "Fizz\n",
      "58\n",
      "59\n",
      "FizzBuzz\n",
      "61\n",
      "62\n",
      "Fizz\n",
      "64\n",
      "Buzz\n",
      "Fizz\n",
      "67\n",
      "68\n",
      "Fizz\n",
      "Buzz\n",
      "71\n",
      "Fizz\n",
      "73\n",
      "74\n",
      "FizzBuzz\n",
      "76\n",
      "77\n",
      "Fizz\n",
      "79\n",
      "Buzz\n",
      "Fizz\n",
      "82\n",
      "83\n",
      "Fizz\n",
      "Buzz\n",
      "86\n",
      "Fizz\n",
      "88\n",
      "89\n",
      "FizzBuzz\n",
      "91\n",
      "92\n",
      "Fizz\n",
      "94\n",
      "Buzz\n",
      "Fizz\n",
      "97\n",
      "98\n",
      "Fizz\n",
      "Buzz\n"
     ]
    }
   ],
   "source": [
    "for i in range(1,101) : \n",
    "    if i%3== 0 and i%5 != 0:\n",
    "        print(\"Fizz\")\n",
    "    elif i%5 == 0 and i%3 != 0 :\n",
    "        print( \"Buzz\")\n",
    "    elif i%5 == 0 and i%3 == 0:\n",
    "        print(\"FizzBuzz\")\n",
    "    else : \n",
    "        print(i)\n",
    "        "
   ]
  },
  {
   "cell_type": "markdown",
   "id": "recognized-presence",
   "metadata": {},
   "source": [
    "# Job 19"
   ]
  },
  {
   "cell_type": "markdown",
   "id": "incoming-flower",
   "metadata": {},
   "source": [
    "Écrire un programme qui aﬃche dans le terminal un rectangle avec des ‘-’ et des ‘|’ en fonction des paramètres d’entrées, (width, height), par exemple :\n",
    "\n",
    "draw_rectangle(10, 3)"
   ]
  },
  {
   "cell_type": "markdown",
   "id": "piano-amber",
   "metadata": {},
   "source": [
    "# Job 23"
   ]
  },
  {
   "cell_type": "markdown",
   "id": "crucial-certificate",
   "metadata": {},
   "source": [
    "Écrire un programme qui aﬃche dans le terminal un triangle avec des ‘_’, des ‘\\’ et des ‘/’ en fonction des paramètres d’entrées, (height), par exemple :\n",
    "\n",
    "draw_triangle(5)"
   ]
  },
  {
   "cell_type": "code",
   "execution_count": null,
   "id": "peripheral-check",
   "metadata": {},
   "outputs": [],
   "source": [
    "def draw_rectangle(w, h) : \n",
    "    for i in range (h):\n",
    "        print ('|', end ='')\n",
    "        for j in range (w) : \n",
    "            print ('-', end ='') \n",
    "        print('|')\n",
    "        \n",
    "draw_rectangle(10, 3)"
   ]
  },
  {
   "cell_type": "code",
   "execution_count": null,
   "id": "desperate-dating",
   "metadata": {},
   "outputs": [],
   "source": [
    "def draw_triangle(h):\n",
    "    n = 0\n",
    "    L = []\n",
    "    for i in range(h-1) :\n",
    "        for j in range(h, n, -1):\n",
    "            print(' ', end=\"\")\n",
    "        print(\"/\", end=\"\")\n",
    "        for j in range(n):\n",
    "            print('  ', end=\"\")\n",
    "        print('\\\\')\n",
    "        n += 1\n",
    "\n",
    "    for j in range(h, n, -1):\n",
    "        print(' ', end=\"\")\n",
    "    print(\"/\", end=\"\")\n",
    "    for j in range(n):\n",
    "        print('__', end=\"\")\n",
    "    print('\\\\')"
   ]
  },
  {
   "cell_type": "markdown",
   "id": "chronic-wrong",
   "metadata": {},
   "source": [
    "# Job 29"
   ]
  },
  {
   "cell_type": "markdown",
   "id": "thrown-minnesota",
   "metadata": {},
   "source": [
    "Luke Skywalker, un professeur de Math, fait passer un test et décide de noter ses élèves sur une échelle allant de 0 à 100 inclus.\n",
    "\n",
    "Si un étudiant obtient moins de 40 sur 100, il échoue au test.\n",
    "\n",
    "S'il a plus de 40, il réussit le test. Luke est un professeur fort sympathique et décide donc d’arrondir à la hausse les notes des étudiants ayant réussi le test. Mais Luke n’est quand même pas trop gentil. Cet arrondi à la hausse ne bénéﬁciera qu’aux étudiants remplissant certains critères car, tout de même, il ne faut pas exagérer, sans blague.\n",
    "\n",
    "Le critère est simple: Si un étudiant a eu une note de moins de strictement 3 points de son prochain multiple de 5, alors sa note est arrondie à ce multiple de 5. Par exemple, un 83 sera arrondi à 85 alors qu’un 82 restera un 82.\n",
    "\n",
    "Pour simpliﬁer le travail de Luke, écrivez une fonction qui prend en paramètre une liste de notes et qui renvoie une liste de notes, arrondies comme il se doit, quand cela est nécessaire."
   ]
  },
  {
   "cell_type": "code",
   "execution_count": null,
   "id": "gross-ultimate",
   "metadata": {},
   "outputs": [],
   "source": [
    "def arrondir_notes(notes):\n",
    "    notes_arrondies = []\n",
    "    for note in notes:\n",
    "        if note < 40:\n",
    "            notes_arrondies.append(note) \n",
    "        else:\n",
    "            diff = 5 - note % 5\n",
    "            if diff < 3:\n",
    "                note_arrondie = note + diff\n",
    "            else:\n",
    "                note_arrondie = note\n",
    "            notes_arrondies.append(note_arrondie)\n",
    "    return notes_arrondies"
   ]
  },
  {
   "cell_type": "code",
   "execution_count": null,
   "id": "verified-capacity",
   "metadata": {},
   "outputs": [],
   "source": [
    "notes = [65, 78, 82, 90, 37]\n",
    "notes_arrondies = arrondir_notes(notes)\n",
    "print(notes_arrondies)"
   ]
  },
  {
   "cell_type": "markdown",
   "id": "sporting-acting",
   "metadata": {},
   "source": [
    "# Job 31"
   ]
  },
  {
   "cell_type": "markdown",
   "id": "warming-bangladesh",
   "metadata": {},
   "source": [
    "Créer un programme qui demandera à l’utilisateur de renseigner un mot et un seul, sans espace ni aucun autre caractère que les 26 lettres de l’alphabet (sans accent ni majuscule).\n",
    "\n",
    "Votre programme devra modiﬁer ce mot, en y changeant de place certains caractères (ou tous) aﬁn de donner un mot plus “loin” dans l’ordre alphabétique que le mot renseigné par l'utilisateur.\n",
    "\n",
    "Attention: Le nouveau mot doit être le mot le plus proche possible, dans l’ordre alphabétique, du mot original !\n",
    "\n",
    "Par exemple, “abcde” donnerait “abced”. “acedb” est aussi “valide” mais n’est PAS le plus proche du mot original dans l’ordre alphabétique."
   ]
  },
  {
   "cell_type": "code",
   "execution_count": null,
   "id": "economic-circumstances",
   "metadata": {},
   "outputs": [],
   "source": [
    "def trier_mot(mot):\n",
    "\n",
    "    if not mot.isalpha() or not mot.islower():\n",
    "        print(\"Erreur : Le mot doit contenir uniquement des lettres minuscules sans accents.\")\n",
    "        return\n",
    "\n",
    "    liste_mot = list(mot)\n",
    "\n",
    "    for i in range(len(liste_mot)-1, 0, -1):\n",
    "        if liste_mot[i] > liste_mot[i-1]:\n",
    "            for j in range(len(liste_mot)-1, i-1, -1):\n",
    "                if liste_mot[j] > liste_mot[i-1]:\n",
    "                    \n",
    "                    liste_mot[i-1], liste_mot[j] = liste_mot[j], liste_mot[i-1]\n",
    "                    \n",
    "                    partie_droite = sorted(liste_mot[i:])\n",
    "                    mot_trie = \"\".join(liste_mot[:i] + partie_droite)\n",
    "                    return mot_trie\n",
    "    \n",
    "    return mot\n",
    "\n",
    "mot = input(\"donner un mot : \")\n",
    "mot_trie = trier_mot(mot)\n",
    "print(f\"Le mot trié le plus proche de '{mot}' est : {mot_trie}\")"
   ]
  }
 ],
 "metadata": {
  "kernelspec": {
   "display_name": "Python 3",
   "language": "python",
   "name": "python3"
  },
  "language_info": {
   "codemirror_mode": {
    "name": "ipython",
    "version": 3
   },
   "file_extension": ".py",
   "mimetype": "text/x-python",
   "name": "python",
   "nbconvert_exporter": "python",
   "pygments_lexer": "ipython3",
   "version": "3.6.8"
  }
 },
 "nbformat": 4,
 "nbformat_minor": 5
}
