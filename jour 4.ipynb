{
 "cells": [
  {
   "cell_type": "markdown",
   "id": "persistent-dallas",
   "metadata": {},
   "source": [
    "# job 0\n"
   ]
  },
  {
   "cell_type": "markdown",
   "id": "prospective-criminal",
   "metadata": {},
   "source": [
    "Créer un programme demandant à l’utilisateur de renseigner un nombre entier. Votre programme devra calculer la factorielle de ce nombre, sans utiliser de fonction autre que les vôtres. Attention, vous ne devez utiliser ni while, ni for, ni foreach ni … boucle. Seulement de la récursivité."
   ]
  },
  {
   "cell_type": "code",
   "execution_count": 3,
   "id": "persistent-sacrifice",
   "metadata": {},
   "outputs": [
    {
     "name": "stdout",
     "output_type": "stream",
     "text": [
      "donner un nombre entier : 3\n",
      "6\n"
     ]
    }
   ],
   "source": [
    "n = int (input(\"donner un nombre entier : \"))\n",
    "def factorielle(n):\n",
    "    if n == 0:\n",
    "        return 1\n",
    "    else:\n",
    "        return n * factorielle(n-1)\n",
    "\n",
    "print(factorielle(n))\n"
   ]
  },
  {
   "cell_type": "markdown",
   "id": "double-berry",
   "metadata": {},
   "source": [
    "# job 0.1\n"
   ]
  },
  {
   "cell_type": "markdown",
   "id": "interstate-theorem",
   "metadata": {},
   "source": [
    "Créer un programme demandant à l’utilisateur de renseigner un nombre entier. Votre programme devra calculer x^n, où n est le nombre fourni par l’utilisateur, sans utiliser de fonction autre que les vôtres. Attention, vous ne devez utiliser ni while, ni for, ni foreach ni … boucle. Seulement de la récursivité."
   ]
  },
  {
   "cell_type": "code",
   "execution_count": null,
   "id": "infectious-desire",
   "metadata": {},
   "outputs": [],
   "source": [
    "def puissance(x, n):\n",
    "    if n == 0:\n",
    "        return 1\n",
    "    elif n == 1:\n",
    "        return x\n",
    "    else:\n",
    "        return x * puissance(x, n-1)\n",
    "\n",
    "x = int(input(\"Entrez un nombre entier : \"))\n",
    "n = int(input(\"Entrez un exposant entier : \"))\n",
    "resultat = puissance(x, n)\n",
    "print(f\"{x}^{n} = {resultat}\")\n"
   ]
  },
  {
   "cell_type": "code",
   "execution_count": null,
   "id": "southern-candy",
   "metadata": {},
   "outputs": [],
   "source": []
  }
 ],
 "metadata": {
  "kernelspec": {
   "display_name": "Python 3",
   "language": "python",
   "name": "python3"
  },
  "language_info": {
   "codemirror_mode": {
    "name": "ipython",
    "version": 3
   },
   "file_extension": ".py",
   "mimetype": "text/x-python",
   "name": "python",
   "nbconvert_exporter": "python",
   "pygments_lexer": "ipython3",
   "version": "3.6.8"
  }
 },
 "nbformat": 4,
 "nbformat_minor": 5
}
